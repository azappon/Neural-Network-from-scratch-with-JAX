{
 "cells": [
  {
   "cell_type": "markdown",
   "metadata": {},
   "source": [
    "# Libraries"
   ]
  },
  {
   "cell_type": "code",
   "execution_count": 1,
   "metadata": {},
   "outputs": [
    {
     "name": "stderr",
     "output_type": "stream",
     "text": [
      "/Library/Frameworks/Python.framework/Versions/3.9/lib/python3.9/site-packages/tqdm/auto.py:22: TqdmWarning: IProgress not found. Please update jupyter and ipywidgets. See https://ipywidgets.readthedocs.io/en/stable/user_install.html\n",
      "  from .autonotebook import tqdm as notebook_tqdm\n"
     ]
    }
   ],
   "source": [
    "import numpy as np\n",
    "import jax.numpy as jnp\n",
    "from jax.scipy.special import logsumexp\n",
    "import jax\n",
    "from jax import jit, vmap, pmap, grad, value_and_grad\n",
    "\n",
    "from torchvision.datasets import FashionMNIST\n",
    "from torch.utils.data import DataLoader\n",
    "\n",
    "import matplotlib.pyplot as plt\n",
    "import random\n",
    "\n",
    "seed = 5"
   ]
  },
  {
   "cell_type": "markdown",
   "metadata": {},
   "source": [
    "# Functions"
   ]
  },
  {
   "cell_type": "code",
   "execution_count": 2,
   "metadata": {},
   "outputs": [],
   "source": [
    "def initialize_network_params(layer_sizes, scale=1e-2, seed=0):\n",
    "    \"\"\" Build a list of (weights, biases) tuples,\n",
    "        one for each layer in the network. \"\"\"\n",
    "    rng = jax.random.PRNGKey(seed)\n",
    "    keys = jax.random.split(rng, len(layer_sizes))\n",
    "    return [(scale * jax.random.normal(key, (m, n)),   # weights\n",
    "             scale * jax.random.normal(key, (n,)))    # biases\n",
    "            for key, (m, n) in zip(keys, zip(layer_sizes[:-1], layer_sizes[1:]))]\n",
    "\n",
    "\n",
    "def ReLU(x):\n",
    "    \"\"\" Rectified linear unit. \"\"\"\n",
    "    return jnp.maximum(0, x)\n",
    "\n",
    "\n",
    "def predict_item(params, inputs):\n",
    "    \"\"\" Predict a single image using the trained weights. \"\"\"\n",
    "    activations = inputs\n",
    "    for W, b in params[:-1]:\n",
    "        outputs = jnp.dot(activations, W) + b\n",
    "        activations = ReLU(outputs)\n",
    "    final_W, final_b = params[-1]\n",
    "    logits = jnp.dot(activations, final_W) + final_b\n",
    "    return logits - logsumexp(logits)\n",
    "\n",
    "\n",
    "def predict_batch(params, inputs):\n",
    "    \"\"\" Predict a batch of images using the trained weights. \"\"\"\n",
    "    return vmap(predict_item, in_axes=(None, 0))(params, inputs)\n",
    "\n",
    "\n",
    "def loss_fn(params, batch):\n",
    "    \"\"\" Cross entropy loss for a batch of inputs/outputs. \"\"\"\n",
    "    inputs, targets = batch\n",
    "    preds = predict_batch(params, inputs)\n",
    "    return -jnp.mean(preds[jnp.arange(targets.shape[0]), targets])\n",
    "\n",
    "\n",
    "def accuracy(params, batch):\n",
    "    \"\"\" Accuracy for a batch of inputs/outputs. \"\"\"\n",
    "    inputs, targets = batch\n",
    "    target_class = jnp.argmax(predict_batch(params, inputs), axis=1)\n",
    "    return jnp.mean(target_class == targets)\n",
    "\n",
    "\n",
    "def transform(x):\n",
    "    \"\"\" Used to transform a PIL.Image to a jax.numpy.ndarray. \"\"\"\n",
    "    return jnp.array(x).reshape(-1, 28*28)\n",
    "\n",
    "\n",
    "def custome_collate(batch):\n",
    "    \"\"\" Collate function to convert a list of tuples to a tuple of lists. \"\"\"\n",
    "    return jnp.array([x[0] for x in batch]), np.array([x[1] for x in batch])\n",
    "\n",
    "\n",
    "def convert_label(label):\n",
    "    \"\"\" Convert the labels from 0-9 to the actual label names. \"\"\"\n",
    "    if label == 0:\n",
    "        return \"T-shirt/top\"\n",
    "    elif label == 1:\n",
    "        return \"Trouser\"\n",
    "    elif label == 2:\n",
    "        return \"Pullover\"\n",
    "    elif label == 3:\n",
    "        return \"Dress\"\n",
    "    elif label == 4:\n",
    "        return \"Coat\"\n",
    "    elif label == 5:\n",
    "        return \"Sandal\"\n",
    "    elif label == 6:\n",
    "        return \"Shirt\"\n",
    "    elif label == 7:\n",
    "        return \"Sneaker\"\n",
    "    elif label == 8:\n",
    "        return \"Bag\"\n",
    "    elif label == 9:\n",
    "        return \"Ankle boot\""
   ]
  },
  {
   "cell_type": "markdown",
   "metadata": {},
   "source": [
    "# Data & config"
   ]
  },
  {
   "cell_type": "code",
   "execution_count": 3,
   "metadata": {},
   "outputs": [],
   "source": [
    "layer_sizes = [784, 1024, 1024, 10]\n",
    "num_epochs = 10\n",
    "learning_rate = 0.001\n",
    "batch_size = 128\n",
    "\n",
    "# load fashion mnist dataset\n",
    "train_dataset = FashionMNIST(root='./data', train=True, download=True, transform=transform)\n",
    "test_dataset = FashionMNIST(root='./data', train=False, download=True, transform=transform)\n",
    "\n",
    "train_loader = DataLoader(train_dataset, batch_size=batch_size, shuffle=True, collate_fn=custome_collate)\n",
    "test_loader = DataLoader(test_dataset, batch_size=batch_size, shuffle=False, collate_fn=custome_collate)"
   ]
  },
  {
   "cell_type": "markdown",
   "metadata": {},
   "source": [
    "# Initialize and train"
   ]
  },
  {
   "cell_type": "code",
   "execution_count": 4,
   "metadata": {},
   "outputs": [
    {
     "name": "stdout",
     "output_type": "stream",
     "text": [
      "Epoch: 0 | Batch: 0 | Loss: 2.792550563812256\n",
      "Epoch: 0 | Batch: 100 | Loss: 0.5713967084884644\n",
      "Epoch: 0 | Batch: 200 | Loss: 0.48755449056625366\n",
      "Epoch: 0 | Batch: 300 | Loss: 0.5775946378707886\n",
      "Epoch: 0 | Batch: 400 | Loss: 0.4662013649940491\n",
      "Epoch: 1 | Batch: 0 | Loss: 0.4949067234992981\n",
      "Epoch: 1 | Batch: 100 | Loss: 0.4568464159965515\n",
      "Epoch: 1 | Batch: 200 | Loss: 0.3180035352706909\n",
      "Epoch: 1 | Batch: 300 | Loss: 0.4556054472923279\n",
      "Epoch: 1 | Batch: 400 | Loss: 0.4144655168056488\n",
      "Epoch: 2 | Batch: 0 | Loss: 0.3811339735984802\n",
      "Epoch: 2 | Batch: 100 | Loss: 0.36615607142448425\n",
      "Epoch: 2 | Batch: 200 | Loss: 0.33314064145088196\n",
      "Epoch: 2 | Batch: 300 | Loss: 0.5019170045852661\n",
      "Epoch: 2 | Batch: 400 | Loss: 0.3307340145111084\n",
      "Epoch: 3 | Batch: 0 | Loss: 0.32832223176956177\n",
      "Epoch: 3 | Batch: 100 | Loss: 0.38729554414749146\n",
      "Epoch: 3 | Batch: 200 | Loss: 0.34894102811813354\n",
      "Epoch: 3 | Batch: 300 | Loss: 0.43623703718185425\n",
      "Epoch: 3 | Batch: 400 | Loss: 0.32839253544807434\n",
      "Epoch: 4 | Batch: 0 | Loss: 0.2687072455883026\n",
      "Epoch: 4 | Batch: 100 | Loss: 0.25639215111732483\n",
      "Epoch: 4 | Batch: 200 | Loss: 0.2946712076663971\n",
      "Epoch: 4 | Batch: 300 | Loss: 0.29196232557296753\n",
      "Epoch: 4 | Batch: 400 | Loss: 0.47675633430480957\n",
      "Epoch: 5 | Batch: 0 | Loss: 0.28676271438598633\n",
      "Epoch: 5 | Batch: 100 | Loss: 0.2727566957473755\n",
      "Epoch: 5 | Batch: 200 | Loss: 0.27481937408447266\n",
      "Epoch: 5 | Batch: 300 | Loss: 0.27085575461387634\n",
      "Epoch: 5 | Batch: 400 | Loss: 0.23186935484409332\n",
      "Epoch: 6 | Batch: 0 | Loss: 0.3306373059749603\n",
      "Epoch: 6 | Batch: 100 | Loss: 0.3021219074726105\n",
      "Epoch: 6 | Batch: 200 | Loss: 0.2532959580421448\n",
      "Epoch: 6 | Batch: 300 | Loss: 0.29840797185897827\n",
      "Epoch: 6 | Batch: 400 | Loss: 0.2749417722225189\n",
      "Epoch: 7 | Batch: 0 | Loss: 0.39667296409606934\n",
      "Epoch: 7 | Batch: 100 | Loss: 0.3060913681983948\n",
      "Epoch: 7 | Batch: 200 | Loss: 0.2796285152435303\n",
      "Epoch: 7 | Batch: 300 | Loss: 0.3176409602165222\n",
      "Epoch: 7 | Batch: 400 | Loss: 0.17411291599273682\n",
      "Epoch: 8 | Batch: 0 | Loss: 0.32328400015830994\n",
      "Epoch: 8 | Batch: 100 | Loss: 0.20728221535682678\n",
      "Epoch: 8 | Batch: 200 | Loss: 0.2624977231025696\n",
      "Epoch: 8 | Batch: 300 | Loss: 0.28419989347457886\n",
      "Epoch: 8 | Batch: 400 | Loss: 0.25751587748527527\n",
      "Epoch: 9 | Batch: 0 | Loss: 0.147077739238739\n",
      "Epoch: 9 | Batch: 100 | Loss: 0.3755216598510742\n",
      "Epoch: 9 | Batch: 200 | Loss: 0.1808292418718338\n",
      "Epoch: 9 | Batch: 300 | Loss: 0.22110921144485474\n",
      "Epoch: 9 | Batch: 400 | Loss: 0.3696218430995941\n"
     ]
    }
   ],
   "source": [
    "params = initialize_network_params(layer_sizes, seed=seed)\n",
    "\n",
    "\n",
    "@jit\n",
    "def train_step(params, batch):\n",
    "    loss, grads = value_and_grad(loss_fn)(params, batch)\n",
    "    return loss, [(w - learning_rate * dw, b - learning_rate * db)\n",
    "                  for (w, b), (dw, db) in zip(params, grads)]\n",
    "\n",
    "for epoch in range(num_epochs):\n",
    "    for batch_idx, (data, target) in enumerate(train_loader):\n",
    "        data = data.reshape(-1, 28*28)\n",
    "        loss, params = train_step(params, (data, target))\n",
    "        if batch_idx % 100 == 0:\n",
    "            print(f'Epoch: {epoch} | Batch: {batch_idx} | Loss: {loss}')"
   ]
  },
  {
   "cell_type": "markdown",
   "metadata": {},
   "source": [
    "# Test & visualize"
   ]
  },
  {
   "cell_type": "code",
   "execution_count": 7,
   "metadata": {},
   "outputs": [
    {
     "name": "stdout",
     "output_type": "stream",
     "text": [
      "Total Test Accuracy: 0.8707000017166138\n"
     ]
    }
   ],
   "source": [
    "total_correct = 0\n",
    "total = 0\n",
    "for batch_idx, (data, target) in enumerate(test_loader):\n",
    "    data = data.reshape(-1, 28*28)\n",
    "    total_correct += accuracy(params, (data, target)) * data.shape[0]\n",
    "    total += data.shape[0]\n",
    "print(f'Total Test Accuracy: {total_correct / total}')"
   ]
  },
  {
   "cell_type": "code",
   "execution_count": 6,
   "metadata": {},
   "outputs": [
    {
     "data": {
      "image/png": "[encoded data removed]",
      "text/plain": [
       "<Figure size 720x360 with 10 Axes>"
      ]
     },
     "metadata": {
      "needs_background": "light"
     },
     "output_type": "display_data"
    }
   ],
   "source": [
    "images, labels = next(iter(test_loader))\n",
    "images = images.reshape(-1, 28*28)\n",
    "\n",
    "fig, axes = plt.subplots(2, 5, figsize=(10, 5))\n",
    "for i, ax in enumerate(axes.flat):\n",
    "    idx = random.randint(0, len(images)-1)\n",
    "    ax.imshow(images[idx].reshape(28, 28), cmap=\"binary\")\n",
    "    ax.set(title = \"{}\".format(convert_label(np.argmax(predict_batch(params, images[idx:idx+1])))))\n",
    "\n",
    "plt.show()"
   ]
  }
 ],
 "metadata": {
  "kernelspec": {
   "display_name": "Python 3.9.9 64-bit",
   "language": "python",
   "name": "python3"
  },
  "language_info": {
   "codemirror_mode": {
    "name": "ipython",
    "version": 3
   },
   "file_extension": ".py",
   "mimetype": "text/x-python",
   "name": "python",
   "nbconvert_exporter": "python",
   "pygments_lexer": "ipython3",
   "version": "3.9.9"
  },
  "orig_nbformat": 4,
  "vscode": {
   "interpreter": {
    "hash": "aee8b7b246df8f9039afb4144a1f6fd8d2ca17a180786b69acc140d282b71a49"
   }
  }
 },
 "nbformat": 4,
 "nbformat_minor": 2
}
